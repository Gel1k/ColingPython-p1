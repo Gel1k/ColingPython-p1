{
 "cells": [
  {
   "cell_type": "markdown",
   "metadata": {},
   "source": [
    "# Регулярные выражения"
   ]
  },
  {
   "cell_type": "code",
   "execution_count": 7,
   "metadata": {},
   "outputs": [],
   "source": [
    "# !pip install bs4"
   ]
  },
  {
   "cell_type": "code",
   "execution_count": 3,
   "metadata": {},
   "outputs": [],
   "source": [
    "from bs4 import BeautifulSoup as bs\n",
    "import re"
   ]
  },
  {
   "cell_type": "markdown",
   "metadata": {},
   "source": [
    "В этом задании мы предлагаем вам извлечь информацию с данной [страницы](https://www.galeria.spb.ru/shops/)\n",
    "\n",
    "Для каждого этажа выведите список неработающих магазинов."
   ]
  },
  {
   "cell_type": "markdown",
   "metadata": {},
   "source": [
    "Поскольку информация подгружается динамически, мы заранее подготовили для вас html-код, готовый к обработке (файл galeria.html)"
   ]
  },
  {
   "cell_type": "code",
   "execution_count": 18,
   "metadata": {},
   "outputs": [],
   "source": [
    "html_loc = 'galeria.html'\n",
    "with open(html_loc, \"r\", encoding=\"utf8\") as f:\n",
    "    page = f.read()\n",
    "soup = bs(page) # <-- тут html дерево"
   ]
  },
  {
   "cell_type": "markdown",
   "metadata": {},
   "source": [
    "На выходе ожидается словарь в таком виде:\n",
    "\n",
    "```python\n",
    "{\n",
    "    \"floor_1\": [\n",
    "        \"Zara\",\n",
    "        \"UNIQLO\",\n",
    "        .\n",
    "        .\n",
    "    ],\n",
    "    \n",
    "    \"floor_2\": [\n",
    "        \"Reserved\",\n",
    "        \"Stradivarius\"\n",
    "        \"MANGO\"\n",
    "        .\n",
    "        .\n",
    "    ],\n",
    "    .\n",
    "    .\n",
    "}\n",
    "```"
   ]
  }
 ],
 "metadata": {
  "kernelspec": {
   "display_name": "Python 3 (ipykernel)",
   "language": "python",
   "name": "python3"
  },
  "language_info": {
   "codemirror_mode": {
    "name": "ipython",
    "version": 3
   },
   "file_extension": ".py",
   "mimetype": "text/x-python",
   "name": "python",
   "nbconvert_exporter": "python",
   "pygments_lexer": "ipython3",
   "version": "3.7.7"
  }
 },
 "nbformat": 4,
 "nbformat_minor": 4
}
